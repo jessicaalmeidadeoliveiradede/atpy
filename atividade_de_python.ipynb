{
  "cells": [
    {
      "cell_type": "markdown",
      "metadata": {
        "id": "view-in-github",
        "colab_type": "text"
      },
      "source": [
        "<a href=\"https://colab.research.google.com/github/jessicaalmeidadeoliveiradede/atpy/blob/main/atividade_de_python.ipynb\" target=\"_parent\"><img src=\"https://colab.research.google.com/assets/colab-badge.svg\" alt=\"Open In Colab\"/></a>"
      ]
    },
    {
      "cell_type": "code",
      "execution_count": null,
      "metadata": {
        "colab": {
          "base_uri": "https://localhost:8080/"
        },
        "id": "lIYdn1woOS1n",
        "outputId": "3172d46c-cba0-4915-af28-6bd948a80487"
      },
      "outputs": [
        {
          "output_type": "stream",
          "name": "stdout",
          "text": [
            "JESSICA\n"
          ]
        }
      ],
      "source": [
        "class Pessoa:\n",
        "    def __init__(self,nome,mauscula):\n",
        "        self.nome = nome\n",
        "        self.mauscula=mauscula\n",
        "\n",
        "if __name__ == \"__main__\":\n",
        "    pessoa1 = Pessoa(\"JESSICA\", \"J\")\n",
        "    print(pessoa1.nome)\n",
        "\n"
      ]
    },
    {
      "cell_type": "code",
      "source": [],
      "metadata": {
        "id": "QMqslL5e2KN7"
      },
      "execution_count": null,
      "outputs": []
    },
    {
      "cell_type": "code",
      "source": [
        "salario=float(input(\"qua e o seu salario\"))\n",
        "novo=salario=(salario*15/100)\n",
        "print(\"um funcionario que ganhava R$ {:.2f},15% de aumento passa a receber R${:.2f}\".format(salario,novo))"
      ],
      "metadata": {
        "colab": {
          "base_uri": "https://localhost:8080/"
        },
        "id": "QBxB2ybeDIUa",
        "outputId": "6aadfe7e-f617-4cb0-9d86-cfbe79f7d536"
      },
      "execution_count": null,
      "outputs": [
        {
          "output_type": "stream",
          "name": "stdout",
          "text": [
            "qua e o seu salario 50\n",
            "um funcionario que ganhava R$ 7.50,15% de aumento passa a receber R$7.50\n"
          ]
        }
      ]
    },
    {
      "cell_type": "code",
      "source": [
        "n1=int(input(\"digite o primeiro numeiro\"))\n",
        "n2=int(input(\"digite o segudo numero\"))\n",
        "n3=int(input(\"digite o terceiro numero\"))\n",
        "print(\"imprime primeiro numero\",n1)\n",
        "print(\"imprime os segundo numero\",n2)\n",
        "print(\"imprime os terceiro numero\",n3)\n",
        "\n"
      ],
      "metadata": {
        "colab": {
          "base_uri": "https://localhost:8080/"
        },
        "id": "b0z1B4W2JhsL",
        "outputId": "1e558f9d-57a2-4a7c-9fc6-4b7b27c528a7"
      },
      "execution_count": null,
      "outputs": [
        {
          "output_type": "stream",
          "name": "stdout",
          "text": [
            "digite o primeiro numeiro 1\n",
            "digite o segudo numero 1\n",
            "digite o terceiro numero 1\n",
            "imprime primeiro numero 1\n",
            "imprime os segundo numero 1\n",
            "imprime os terceiro numero 1\n"
          ]
        }
      ]
    },
    {
      "cell_type": "code",
      "source": [
        "from random import choice\n",
        "x10=input(\"digite o primeiro numero\")\n",
        "x12=input(\"digite o segundpo numero \")\n",
        "x35=input(\"digite o terceiro numero\")\n",
        "s=x10+x35\n",
        "s=x12+x10\n",
        "s=x12+x35\n",
        "lista= [x10 , x12 , x35]\n",
        "escolha=choice(lista)\n",
        "print(\"some{} \",s)"
      ],
      "metadata": {
        "colab": {
          "base_uri": "https://localhost:8080/"
        },
        "id": "0AHvAkmOEZR0",
        "outputId": "c35f2a68-2e46-4024-8439-c1ad2d543952"
      },
      "execution_count": null,
      "outputs": [
        {
          "output_type": "stream",
          "name": "stdout",
          "text": [
            "digite o primeiro numero 12\n",
            "digite o segundpo numero  12\n",
            "digite o terceiro numero 12\n",
            "some{}   12 12\n"
          ]
        }
      ]
    }
  ],
  "metadata": {
    "colab": {
      "name": "atividade de python",
      "provenance": [],
      "include_colab_link": true
    },
    "kernelspec": {
      "display_name": "Python 3",
      "name": "python3"
    }
  },
  "nbformat": 4,
  "nbformat_minor": 0
}